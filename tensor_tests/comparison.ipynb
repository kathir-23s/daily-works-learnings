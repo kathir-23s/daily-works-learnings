{
 "cells": [
  {
   "cell_type": "code",
   "execution_count": null,
   "id": "f8f5ab34",
   "metadata": {},
   "outputs": [],
   "source": [
    "from TensorT.tensor_scratch import TensorT\n",
    "import numpy as np\n",
    "import torch\n",
    "import time"
   ]
  },
  {
   "cell_type": "markdown",
   "id": "53d5382d",
   "metadata": {},
   "source": [
    "TIME"
   ]
  },
  {
   "cell_type": "code",
   "execution_count": 3,
   "id": "0e0f7447",
   "metadata": {},
   "outputs": [
    {
     "name": "stdout",
     "output_type": "stream",
     "text": [
      "\n",
      "Matrix Size: 16x16\n",
      "My Tensor class initialization: 0.0008461s\n",
      "My Tensor class blocked multiplication: 0.0043721s\n",
      "NumPy initialization: 0.0000803s\n",
      "PyTorch initialization: 0.0003397s\n",
      "\n",
      "Matrix Size: 32x32\n",
      "My Tensor class initialization: 0.0036159s\n",
      "My Tensor class blocked multiplication: 0.0027030s\n",
      "NumPy initialization: 0.0000672s\n",
      "PyTorch initialization: 0.0003607s\n",
      "\n",
      "Matrix Size: 64x64\n",
      "My Tensor class initialization: 0.0129585s\n",
      "My Tensor class blocked multiplication: 0.0128093s\n",
      "NumPy initialization: 0.0001588s\n",
      "PyTorch initialization: 0.0007520s\n",
      "\n",
      "Matrix Size: 128x128\n",
      "My Tensor class initialization: 0.0982313s\n",
      "My Tensor class blocked multiplication: 0.1021953s\n",
      "NumPy initialization: 0.0011470s\n",
      "PyTorch initialization: 0.0018747s\n",
      "\n",
      "Matrix Size: 256x256\n",
      "My Tensor class initialization: 0.8145642s\n",
      "My Tensor class blocked multiplication: 0.8244150s\n",
      "NumPy initialization: 0.0061522s\n",
      "PyTorch initialization: 0.0149336s\n",
      "\n",
      "Matrix Size: 512x512\n",
      "My Tensor class initialization: 7.0753214s\n",
      "My Tensor class blocked multiplication: 6.7994001s\n",
      "NumPy initialization: 0.0089223s\n",
      "PyTorch initialization: 0.0458071s\n",
      "\n",
      "Matrix Size: 1024x1024\n",
      "My Tensor class initialization: 86.9826977s\n",
      "My Tensor class blocked multiplication: 55.3910608s\n",
      "NumPy initialization: 0.0435650s\n",
      "PyTorch initialization: 0.1352262s\n",
      "\n",
      "Matrix Size: 2048x2048\n",
      "My Tensor class initialization: 638.0533962s\n",
      "My Tensor class blocked multiplication: 509.8483863s\n",
      "NumPy initialization: 0.1693292s\n",
      "PyTorch initialization: 0.4457803s\n"
     ]
    }
   ],
   "source": [
    "\n",
    "shape = [16, 32, 64, 128, 256, 512, 1024, 2048] #, 256, 512, 1024, 2048, 4096, 8192]\n",
    "for i in shape:\n",
    "\tinput_tens = TensorT.random_tensor((i,i))\n",
    "\tinput_data = input_tens.data\n",
    "\n",
    "\tprint(f\"\\nMatrix Size: {i}x{i}\")\n",
    "\tstart = time.time()\n",
    "\ta_tenst = TensorT(input_data)\n",
    "\tb_tenst = TensorT(input_data)\n",
    "\ta_tenst.tmatmul(b_tenst)\n",
    "\telapsed_np = time.time() - start\n",
    "\tprint(f\"My Tensor class initialization: {elapsed_np:.7f}s\")\n",
    "\n",
    "\tstart = time.time()\n",
    "\ta_tens2 = TensorT(input_data)\n",
    "\tb_tens2 = TensorT(input_data)\n",
    "\ta_tens2.block_matmul(b_tens2, 64)\n",
    "\telapsed_np = time.time() - start\n",
    "\tprint(f\"My Tensor class blocked multiplication: {elapsed_np:.7f}s\")\n",
    "\n",
    "\tstart = time.time()\n",
    "\ta_np = np.array(input_data)\n",
    "\tb_np = np.array(input_data)\n",
    "\ta_np @ b_np\n",
    "\telapsed_np = time.time() - start\n",
    "\tprint(f\"NumPy initialization: {elapsed_np:.7f}s\")\n",
    "\n",
    "\n",
    "\tstart = time.time()\n",
    "\ta_torch = torch.tensor(input_data)\n",
    "\tb_torch = torch.tensor(input_data)\n",
    "\ta_torch @ b_torch\n",
    "\telapsed_torch = time.time() - start\n",
    "\tprint(f\"PyTorch initialization: {elapsed_torch:.7f}s\")\n"
   ]
  }
 ],
 "metadata": {
  "kernelspec": {
   "display_name": "Python 3",
   "language": "python",
   "name": "python3"
  },
  "language_info": {
   "codemirror_mode": {
    "name": "ipython",
    "version": 3
   },
   "file_extension": ".py",
   "mimetype": "text/x-python",
   "name": "python",
   "nbconvert_exporter": "python",
   "pygments_lexer": "ipython3",
   "version": "3.10.12"
  }
 },
 "nbformat": 4,
 "nbformat_minor": 5
}
